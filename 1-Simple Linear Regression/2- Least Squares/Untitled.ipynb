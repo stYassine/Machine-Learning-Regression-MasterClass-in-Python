{
 "cells": [
  {
   "cell_type": "markdown",
   "metadata": {},
   "source": [
    "## 1 - Least Squares\n",
    "- Least Squares is a very important Technique that can be used to Optimize our simple Linear Regression Model, and obtain the best fit, to fit the data points\n",
    "\n",
    "- Least Squares fitting is a way to find the best fit \"Curve\" or \"Line\" for a set of points.\n",
    "- The sum of squares of the offsets (Residuals) are used to estimate the best curve or line.\n",
    "- Least squares method is used to obtain the Coefficients m and b.\n",
    "\n",
    "\n"
   ]
  },
  {
   "cell_type": "markdown",
   "metadata": {},
   "source": [
    "- I have a  couple of points and wanna get the best line that can go through the data.\n",
    "<img src=\"./assets/1-Least Squares 1.png\" />\n",
    "- so first we're gonna add random line\n",
    "<img src=\"./assets/2-random Line 1.png\" />\n",
    "- then we're gonna calculate the Error, of the difference between each of the data points (predicted) and between Actual True points that we have\n",
    "\n",
    "- I have 2 Parameters (values):\n",
    "- 1 Yi (Actual) : these are the ground Truth, true data points\n",
    "- 2 ŷi (Estimated)"
   ]
  },
  {
   "cell_type": "markdown",
   "metadata": {},
   "source": [
    "### How to access the Model\n",
    "\n",
    "- What we are going to do to access the Performance of that Model:\n",
    "- is to simply calculate the Error on the Residual\n",
    "d = ŷi - yi\n",
    "- The Error distance \"d\" will be the difference between yi minus ŷi\n",
    "<img src=\"./assets/2-random Line 2.png\" />"
   ]
  },
  {
   "cell_type": "markdown",
   "metadata": {},
   "source": [
    "### Then\n",
    "- What' we're going to do afterwads is to calculate all the Residuals (get Residual for 1st, 2nd 3rd... points): \n",
    "- Then we're gonna take the Error square it up, then i'm going to sum them up,\n",
    "so i'm gonna all the Error Squared across Every single point,\n",
    "and i'm gonna Obtain the Minimum value, just the minimum value out of all of it:\n",
    "\n",
    "- Now you have obtained the Least sum of Squares\n",
    "- i'm gonna Calculate the Resiual for each Point Square it up, sum them alln then obtain Min Value\n",
    "<img src=\"./assets/2-random Line 3.png\" />"
   ]
  },
  {
   "cell_type": "code",
   "execution_count": null,
   "metadata": {},
   "outputs": [],
   "source": []
  },
  {
   "cell_type": "code",
   "execution_count": null,
   "metadata": {},
   "outputs": [],
   "source": []
  },
  {
   "cell_type": "code",
   "execution_count": null,
   "metadata": {},
   "outputs": [],
   "source": []
  }
 ],
 "metadata": {
  "kernelspec": {
   "display_name": "Python 3",
   "language": "python",
   "name": "python3"
  },
  "language_info": {
   "codemirror_mode": {
    "name": "ipython",
    "version": 3
   },
   "file_extension": ".py",
   "mimetype": "text/x-python",
   "name": "python",
   "nbconvert_exporter": "python",
   "pygments_lexer": "ipython3",
   "version": "3.6.9"
  }
 },
 "nbformat": 4,
 "nbformat_minor": 2
}
