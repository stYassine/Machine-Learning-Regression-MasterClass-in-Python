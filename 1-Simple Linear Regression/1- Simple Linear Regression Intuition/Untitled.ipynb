{
 "cells": [
  {
   "cell_type": "markdown",
   "metadata": {},
   "source": [
    "## 1 - Overview\n",
    "\n",
    "- Y : Dependant\n",
    "- X : Independent\n",
    "<br><br>\n",
    "- In Simple Linear Regression we predict value of 1 Variable Y Based on another Variable X.\n",
    "- X is called the \"Independent\" variable and Y is called the \"Dependant\" Variable.\n",
    "\n",
    "##### Why it's called simple ?\n",
    "- It's called simple because it examines the Relationship Between 2 Variables only\n",
    "\n",
    "##### Why it's called Linear ?\n",
    "- It's called Linear Because when the \"Independent\" variable increases or decreases,\n",
    "- the \"Dependant\" variable increases or decreases in a Linear Fashion"
   ]
  },
  {
   "cell_type": "markdown",
   "metadata": {},
   "source": [
    "## 2 - Intuition\n",
    "- <b>Simple Linear Regression is simple:</b>\n",
    "- Just a way of getting a Relationship between 2 variables X & Y\n",
    "- our objective is to Obtain the Best Coefficients \"m\" and \"b\"\n",
    "- m : <b>is the slope of the Line</b>\n",
    "- b : <b>is the Y intercept</b>\n",
    "<br><br>\n",
    "\n",
    "##### Math\n",
    "- my Objective is to obtain the \"Line\", The Fit line that can go Through the data.\n",
    "- <img src=\"./assets/3-Math 1.png\" />\n",
    "- <b>Equation of a Straight line:</b>\n",
    "- y = b + m * x\n",
    "\n",
    "<br><br>\n",
    "- m and are the Coefficients\n",
    "- y : Dependant Variable\n",
    "- b + m : our Goal (the model)\n",
    "- X : the Independent variable\n",
    "<br><br>\n",
    "- <b>Our Objective is to obtain the values of m & b.</b>\n",
    "- <img src=\"./assets/3-Math 2.png\" />"
   ]
  },
  {
   "cell_type": "markdown",
   "metadata": {},
   "source": [
    "## 3 - Use the Trained Model\n",
    "- Once the Coefficients m and b are obtained, you have obtained a simple linear regression model!\n",
    "- This \"trained\" model can be later used to predict any revenue (dollars) based on the outside air Temperature\n",
    "- <b>m: is the Slope of the line</b>\n",
    "- <b>b: is the Y intercept</b>\n",
    "\n",
    "<img src=\"./assets/3-Math 3.png\" />\n",
    "\n",
    "<br><br>\n",
    "\n",
    "<img src=\"./assets/4-how to user model 1.png\" />\n",
    "\n"
   ]
  },
  {
   "cell_type": "code",
   "execution_count": null,
   "metadata": {},
   "outputs": [],
   "source": []
  },
  {
   "cell_type": "code",
   "execution_count": null,
   "metadata": {},
   "outputs": [],
   "source": []
  },
  {
   "cell_type": "code",
   "execution_count": null,
   "metadata": {},
   "outputs": [],
   "source": []
  },
  {
   "cell_type": "code",
   "execution_count": null,
   "metadata": {},
   "outputs": [],
   "source": []
  },
  {
   "cell_type": "code",
   "execution_count": null,
   "metadata": {},
   "outputs": [],
   "source": []
  },
  {
   "cell_type": "code",
   "execution_count": null,
   "metadata": {},
   "outputs": [],
   "source": []
  }
 ],
 "metadata": {
  "kernelspec": {
   "display_name": "Python 3",
   "language": "python",
   "name": "python3"
  },
  "language_info": {
   "codemirror_mode": {
    "name": "ipython",
    "version": 3
   },
   "file_extension": ".py",
   "mimetype": "text/x-python",
   "name": "python",
   "nbconvert_exporter": "python",
   "pygments_lexer": "ipython3",
   "version": "3.6.9"
  }
 },
 "nbformat": 4,
 "nbformat_minor": 2
}
