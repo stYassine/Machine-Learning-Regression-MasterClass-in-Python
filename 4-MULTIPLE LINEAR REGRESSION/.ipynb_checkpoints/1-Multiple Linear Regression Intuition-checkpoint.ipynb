{
 "cells": [
  {
   "cell_type": "markdown",
   "metadata": {},
   "source": [
    "# Multiple Linear Regression Intuition\n",
    "\n",
    "- in Simple Linear Regression, we were able to predict the value of Variable Y based on Variable X, <br>we only had 2 Variables Only, that's why it's called Simple\n",
    "\n",
    "- Multiple Linear Regression examines the Relationship Between more than 2 Variables.\n",
    "    * SLR: if you recall in the Previous sections we talked about Simple Linear Regression,<br>it's simple Simple LR just deals with 2 Variables (X & y),<br>simple put i just want to obtain a relationship between 2 Variables\n",
    "    <br>i'll change X and then substituting an Equation where i have a couple of coefficients (b,m) i can then predict y\n",
    "    * MLR: instead of having 2 Variables we're gonna be dealing with more than 2 Variables\n",
    "\n",
    "- Recall that Simple Linear Regression is a statistical model that examines linear Relationship between 2 variables only.\n",
    "- Each independent variable has uts own corresponding coefficient."
   ]
  },
  {
   "cell_type": "markdown",
   "metadata": {},
   "source": [
    "# Equation\n",
    "\n",
    "- it's simple an Extension of the Simple Linear Regression:\n",
    "    y = b0 + b1 * x1\n",
    "- now we're gonna take a little bit further and add an additional coefficient (b2)\n",
    "    b2 * x2\n",
    "    x2 is an another independent variable\n",
    "\n",
    "- y: Dependent variables\n",
    "- x: 1,2,... Independent Variables\n",
    "- y = b0 + b1 * x1 + b2 * x2 + .. + bn * xn"
   ]
  },
  {
   "cell_type": "markdown",
   "metadata": {},
   "source": [
    "<img src=\"./assets/1-/1-ML Regression 1.png\" />"
   ]
  },
  {
   "cell_type": "code",
   "execution_count": null,
   "metadata": {},
   "outputs": [],
   "source": []
  },
  {
   "cell_type": "code",
   "execution_count": null,
   "metadata": {},
   "outputs": [],
   "source": []
  },
  {
   "cell_type": "code",
   "execution_count": null,
   "metadata": {},
   "outputs": [],
   "source": []
  }
 ],
 "metadata": {
  "kernelspec": {
   "display_name": "Python 3",
   "language": "python",
   "name": "python3"
  },
  "language_info": {
   "codemirror_mode": {
    "name": "ipython",
    "version": 3
   },
   "file_extension": ".py",
   "mimetype": "text/x-python",
   "name": "python",
   "nbconvert_exporter": "python",
   "pygments_lexer": "ipython3",
   "version": "3.6.9"
  }
 },
 "nbformat": 4,
 "nbformat_minor": 2
}
