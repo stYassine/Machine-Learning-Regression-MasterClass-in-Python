{
 "cells": [
  {
   "cell_type": "markdown",
   "metadata": {},
   "source": [
    "# 1 - Polynomial Regression Intuition"
   ]
  },
  {
   "cell_type": "markdown",
   "metadata": {},
   "source": [
    "- Polynomial regression model the relationship between the Independent variable X and the dependent vartiable Y as an nth degree polynomial in X\n",
    "- <b>Example</b>\n",
    "* Let's assume that we want to model the Relationship between Independent Variable (Years of Experience) and the Dependant Variable (Salary )\n",
    "* so we're excepting the years of Experience goes up with time & also the Salary.\n",
    "* you can see a Direct Relationship between the number years of Experience and the Salary as you can see (2-data points we collected)\n",
    "<img src=\"./assets/1-/2-data points we collected.png\" />\n",
    "<br><br>\n",
    "* if we assume that we want to model this Relationship in a Linear Form, if we assume the Simple Linear Regression Model,\n",
    "* the Model will fail Miserably, you'll find a lot of Error Between the Actual Points and the Actual Model Predictions\n",
    "<img src=\"./assets/1-/2- model failed.png\" />\n",
    "\n",
    "* Even if we shifted that line a little bit down you'll find that we're still far off."
   ]
  },
  {
   "cell_type": "markdown",
   "metadata": {},
   "source": [
    "#### From Linear to Polynomial Regression\n",
    "* that's why we need to move from Simple Linear Regression Model to Polynomial Regression Model\n",
    "<img src=\"./assets/1-/3-move from LR model to Polynomial model.png\" />\n",
    "<br><br>\n",
    "- <b>Model Explination</b>\n",
    "* which is Simply this Model:\n",
    "- y = b0 + b1 * x + b2X² + .. + bnxn\n",
    "- y is our Dependant Variable \n",
    "- x is our Independent Variable \n",
    "- b0 + b1 * x: that's our Linear Model /// if we focus just on this Part that should give us the Relationship of the Straight Line,\n",
    "<br><br>\n",
    "- which is not good Enough, in order to capture all kind of Dynamics that's happening here (all Curvature that's taking place in Polynomial Model)  \n",
    "- we need to Increase the Order of the Polynomial,\n",
    "- that's why you need to add b2x² + ... \n",
    "- that's it, that's Our Polynomial Regression Model "
   ]
  },
  {
   "cell_type": "markdown",
   "metadata": {},
   "source": [
    "### Question: how can we fit the Model\n",
    "- similar to what we have done, our main Objective is to feed our data (y & x) and Try to Obtain the coefficients,\n",
    "- we try to Obtain what's B0, what's B1 what's B2,\n",
    "- that can Perfectly obtain or fit the data points,\n",
    "- that's the Polynomial Regression in a Nutshell"
   ]
  },
  {
   "cell_type": "markdown",
   "metadata": {},
   "source": [
    "### Quiz\n",
    "- What is the order of each of these curves (1) Linear, (2) 2nd Degree, (3) 5th Degree ? \n",
    "<img src=\"./assets/1-/5-Model order quiz.png\" />\n",
    "<br><br>\n",
    "- 1- the Orange Line is our Linear \n",
    "* if we try to increase the Order of the Polynomial, then we gonna achieve that blue line 2nd Degree\n",
    "- 2- Blue Line is our 2nd Degree\n",
    "\n",
    "- 3- Green Line is Our 5th Degree\n",
    "* you'll find that Green line have a lot of ups and downs, additional non-linearity,\n",
    "* and that's the beauty of it, and that's how you can tell if that model is 2nd or 5th Degree ...\n",
    "<br><br>\n",
    "* as you increase the Degree you'll be able to catch more these Variations "
   ]
  },
  {
   "cell_type": "code",
   "execution_count": null,
   "metadata": {},
   "outputs": [],
   "source": []
  },
  {
   "cell_type": "code",
   "execution_count": null,
   "metadata": {},
   "outputs": [],
   "source": []
  },
  {
   "cell_type": "code",
   "execution_count": null,
   "metadata": {},
   "outputs": [],
   "source": []
  },
  {
   "cell_type": "code",
   "execution_count": null,
   "metadata": {},
   "outputs": [],
   "source": []
  },
  {
   "cell_type": "code",
   "execution_count": null,
   "metadata": {},
   "outputs": [],
   "source": []
  },
  {
   "cell_type": "code",
   "execution_count": null,
   "metadata": {},
   "outputs": [],
   "source": []
  },
  {
   "cell_type": "code",
   "execution_count": null,
   "metadata": {},
   "outputs": [],
   "source": []
  },
  {
   "cell_type": "code",
   "execution_count": null,
   "metadata": {},
   "outputs": [],
   "source": []
  },
  {
   "cell_type": "code",
   "execution_count": null,
   "metadata": {},
   "outputs": [],
   "source": []
  },
  {
   "cell_type": "code",
   "execution_count": null,
   "metadata": {},
   "outputs": [],
   "source": []
  },
  {
   "cell_type": "code",
   "execution_count": null,
   "metadata": {},
   "outputs": [],
   "source": []
  },
  {
   "cell_type": "code",
   "execution_count": null,
   "metadata": {},
   "outputs": [],
   "source": []
  },
  {
   "cell_type": "code",
   "execution_count": null,
   "metadata": {},
   "outputs": [],
   "source": []
  },
  {
   "cell_type": "code",
   "execution_count": null,
   "metadata": {},
   "outputs": [],
   "source": []
  },
  {
   "cell_type": "code",
   "execution_count": null,
   "metadata": {},
   "outputs": [],
   "source": []
  },
  {
   "cell_type": "code",
   "execution_count": null,
   "metadata": {},
   "outputs": [],
   "source": []
  }
 ],
 "metadata": {
  "kernelspec": {
   "display_name": "Python 3",
   "language": "python",
   "name": "python3"
  },
  "language_info": {
   "codemirror_mode": {
    "name": "ipython",
    "version": 3
   },
   "file_extension": ".py",
   "mimetype": "text/x-python",
   "name": "python",
   "nbconvert_exporter": "python",
   "pygments_lexer": "ipython3",
   "version": "3.6.9"
  }
 },
 "nbformat": 4,
 "nbformat_minor": 2
}
