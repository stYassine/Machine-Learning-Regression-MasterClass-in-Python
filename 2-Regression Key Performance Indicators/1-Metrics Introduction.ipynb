{
 "cells": [
  {
   "cell_type": "markdown",
   "metadata": {},
   "source": [
    "# 1 - Metrics\n",
    "#### Metrics are measures of quantitative assessment commonly used for assessing, comparing, and tracking performance or production.\n",
    "<br>\n",
    "- We will learn how to assess ML Regression Models.<br>\n",
    "- We will learn the following import Metrics:<br>\n",
    "    1- Mean Squared Error (MSE)<br>\n",
    "    2- Mean Absolute Error (MAE)<br>\n",
    "    3- Root Mean Square Error (RMSE)<br>\n",
    "    4- Mean Absolute Percentage Error (MAPE)<br>\n",
    "    5- Mean Percentage Error (MPE)<br>\n",
    "    6- RSquare <br>\n",
    "    7- Adjusted RSquare<br>\n",
    "\n",
    "#### We will Understand the Advantages and Limitations of each of these Metrics\n",
    "\n"
   ]
  },
  {
   "cell_type": "markdown",
   "metadata": {},
   "source": [
    "# 2 - Regression Metrics Overview\n",
    "- if we build a Regression model Either if it's a Simple Linear Regression model, Multiple Linear Regression model, Polynomial Linear Regression model\n",
    "- what we want to do is to assess the Performance of the Model, we wanna see if that model is good or not "
   ]
  },
  {
   "cell_type": "markdown",
   "metadata": {},
   "source": [
    "# 3 - How to assess Model Performance ?\n",
    "- After model fitting, we would like to assess the performance of the model by comparing model predictions to actual (True) data\n",
    "- we're gonna use (for Example) the 20% of the data (testing data), to assess the Performance of the Model\n",
    "- NOTE: testing data should never been seen by the model before\n",
    "\n",
    "- <b> Example </b>\n",
    "- let's assume that we have our ice cream cart, and we want to develop a Regression model that models the Relationship between (Temperature(X) and Revenue(Y)),\n",
    "- so i collected data, and we fit our Linear Regression Model, so we fit a straight line that can best fit our Training Data.\n",
    "<br><br>\n",
    "\n",
    "- The Question is how can Evaluate the model:\n",
    "- What we could do is, that we calculate the Error, which is the difference between what the model is Saying (Estimated Values) and True value.\n",
    "- what we do is to calculate the Residuals: the difference between the Predictions and the Actual Values:\n",
    "Residuals (Error) = ŷi - yi (this calculation we'll be repeating it for every point)\n",
    "ŷ : Estimated / Predicted Value\n",
    "y : Actual Value\n",
    "<br><br>\n",
    "- if the model was Perfect that means our Estimated will match our Actual Value,\n",
    "the Error will be: 0\n",
    "<br><br>\n",
    "- now i know how to Calculate The Error of each of these Points: \n",
    "Error 1 for First data point, Error 2 for 2nd Data point....\n",
    "- The problem is ? how can i combine all that Information \n",
    "- how can i combine all these Errors into just 1 Metric ?\n"
   ]
  },
  {
   "cell_type": "code",
   "execution_count": null,
   "metadata": {},
   "outputs": [],
   "source": []
  },
  {
   "cell_type": "code",
   "execution_count": null,
   "metadata": {},
   "outputs": [],
   "source": []
  }
 ],
 "metadata": {
  "kernelspec": {
   "display_name": "Python 3",
   "language": "python",
   "name": "python3"
  },
  "language_info": {
   "codemirror_mode": {
    "name": "ipython",
    "version": 3
   },
   "file_extension": ".py",
   "mimetype": "text/x-python",
   "name": "python",
   "nbconvert_exporter": "python",
   "pygments_lexer": "ipython3",
   "version": "3.6.9"
  }
 },
 "nbformat": 4,
 "nbformat_minor": 2
}
