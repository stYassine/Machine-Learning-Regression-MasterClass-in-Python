{
 "cells": [
  {
   "cell_type": "markdown",
   "metadata": {},
   "source": [
    "##### In this we're going to cover 2 IMPORTANT regression Metrics: \n",
    "- 1- R Square (R²) Coefficient of Determination\n",
    "- 2- Adjusted R Square"
   ]
  },
  {
   "cell_type": "markdown",
   "metadata": {},
   "source": [
    "# //////////////////////////////////////////\n",
    "# /// 1- R-Square\n",
    "# //////////////////////////////////////////"
   ]
  },
  {
   "cell_type": "markdown",
   "metadata": {},
   "source": [
    "- R-square of the Coefficient of determination represents the proportion of variance (of y),\n",
    "that has been explained by the Independent variables (x) in the model.\n",
    "<br><br>\n",
    "###### /// <b>Practical Example</b>\n",
    "- let's assume that we have our Ice cream cart, and let's assume that we have Temperature and Revenue\n",
    "we plot our data points, and we came up with this Linear Model\n",
    "if we go ahead and calculate R², and we came up with R² = 80, what this means ?\n",
    "<br><br>\n",
    "- If R² = 80, this Means that 80% of the increase in Ice Cream cart revenue is due to increase in Temperature.\n",
    "- Here i only selected 1 Independent Variable (Temperature), and i'm tracking the revenue Changes\n",
    "as i change the Temperature the Revenue Will Change\n",
    "- R² can give me an Insight, any change on Temperature will have an Impact on Revenue \n",
    "- when i say R² = 80, that means 80% of any Increase of the Revenue is due to (Temperature).\n",
    "- R² can range from 0 to 100%, or 0 to 1\n",
    "<br><br>\n",
    "- R-square represents the proportion of variance of the dependant variable (y) that has been explained by the independent variables.\n",
    "\n",
    "- R-square provides an insight of goodness of fit.\n",
    "\n",
    "- It gives a measure of how well unseen samples are likely to be predicted by the model, through the proportion of explained variance.\n",
    "\n",
    "- Maximum R² value is 1\n",
    "\n",
    "- A constant model that always predicts the expected value of y, disregarding the input features, will have an R² score of 0.0\n",
    "that's a useless model, \n",
    "any increase of the output has nothing to do with Independent variable X\n",
    "\n",
    "##### /// <b>Equation Explanation</b> (1- R square 2)\n",
    "<img src=\"./assets/1- R square 2.png\" />\n",
    "- R² Equal 1 minus, Summation of Each point yi \"True label\" minus ŷi (Estimated) Squared Divide it by\n",
    "<br>\n",
    "- yi minus y- the mean and overall Square, and sum them up"
   ]
  },
  {
   "cell_type": "code",
   "execution_count": null,
   "metadata": {},
   "outputs": [],
   "source": []
  },
  {
   "cell_type": "markdown",
   "metadata": {},
   "source": [
    "# //////////////////////////////////////////\n",
    "# /// 2 - Adjusted R-Square\n",
    "# //////////////////////////////////////////"
   ]
  },
  {
   "cell_type": "markdown",
   "metadata": {},
   "source": [
    "- If R² = 80, this means that 80% of the increase in ice cream cart revenue is due to increase in temperature.\n",
    "- Let's add another 'useless' independent variable, let's say level of education of worker to the Z-axis.\n",
    "what you can see in General is when you add an Additional independent variable in General, \n",
    "you'll find that R² goes up,\n",
    "the more Independent Variables you add, you'll find that R² will go up as well\n",
    "by adding more Independent variables you may say wow R² is going up, \n",
    "Unfortunately some of these parameters might be useless this \"Education of worker\" it has nothing to do with Revenue\n",
    "\n",
    "##### /// <b>NOTE</b>: that's why we calculate what we Call Adjusted R²\n",
    "\n",
    "- Now R² increases and becomes: R² = 85%\n",
    "\n",
    "- One Limitation of R² is that it increases by adding independent variables to the model,\n",
    "which is misleading since some added variables might be useless with minimal significance.\n",
    "* like in our Example \"Level of Education\" for worker\n",
    "\n",
    "- Adjusted R² overcomes this issue by adding a penalty if we make an attempt to add independent variable that does not improve the model.\n",
    "* If i added an Additional Parameter, and that Parameter does not Improve my Model we are gonna Penalize it,\n",
    "that's why we're gonna think of it as a the Gain that came out of this Independent Variable Addition,\n",
    "have to out-weight the impact that we added an Additional Independent Parameter\n",
    "* That's why you'll find the Adjusted R², is like a modified version of R²,\n",
    "First we're gonna add R² and we're gonna make a little or modification to it \n",
    "\n",
    "- Adjusted R² is a modified version of the R² and takes into account the number of predictors in the model.\n",
    "\n",
    "- If useless predictors are added to the model, Adjusted R² will decrease\n",
    "\n",
    "- If useful predictors are added to the model, Adjusted R² will increase\n",
    "\n",
    "- K is the number of independent variables and n is the number of samples:\n",
    "\n",
    "##### /// <b>Equation Explanation</b>\n",
    "<img src=\"./assets/2- Adjusted R square 3.png\" />\n",
    "- Adjusted R² Equals 1 minus <br>\n",
    "- 1 minus R² multiplied by n minus <br>\n",
    "- divided by n minus k minus 1 "
   ]
  },
  {
   "cell_type": "code",
   "execution_count": null,
   "metadata": {},
   "outputs": [],
   "source": []
  },
  {
   "cell_type": "code",
   "execution_count": null,
   "metadata": {},
   "outputs": [],
   "source": []
  },
  {
   "cell_type": "code",
   "execution_count": null,
   "metadata": {},
   "outputs": [],
   "source": []
  }
 ],
 "metadata": {
  "kernelspec": {
   "display_name": "Python 3",
   "language": "python",
   "name": "python3"
  },
  "language_info": {
   "codemirror_mode": {
    "name": "ipython",
    "version": 3
   },
   "file_extension": ".py",
   "mimetype": "text/x-python",
   "name": "python",
   "nbconvert_exporter": "python",
   "pygments_lexer": "ipython3",
   "version": "3.6.9"
  }
 },
 "nbformat": 4,
 "nbformat_minor": 2
}
